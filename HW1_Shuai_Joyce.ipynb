{
  "nbformat": 4,
  "nbformat_minor": 0,
  "metadata": {
    "colab": {
      "name": "Copy of Homework1.ipynb",
      "provenance": [],
      "collapsed_sections": []
    },
    "kernelspec": {
      "name": "python3",
      "display_name": "Python 3"
    }
  },
  "cells": [
    {
      "cell_type": "markdown",
      "metadata": {
        "id": "hm8RAKinXsIP"
      },
      "source": [
        "## **Homework 1**\n",
        "\n",
        "### Create a copy of the notebook to start answering the questions. Name your notebook in the format HW1_lastname_firstname.ipynb to facilitate the grading process. \n",
        "\n",
        "### Answer all the questions, test your code to ensure there are no errors and the results are as expected. Once you have answered all the questions, save the final copy, then go to File-> click on Download.ipynb. Once the local copy has been downloaded, submit your file on Blackboard under the corresponding assignment section. Also provide us a link to your notebook during submission. \n",
        "\n",
        "### **The due date of this homework is 02/05/2021 (Friday).**\n",
        "\n",
        "### Please ensure you follow all the steps mentioned in the homework.\n",
        "\n",
        "### All the questions have a sample input and output to help you understand the question. Please note that your programs will be tested for other sets of inputs and outputs along with the sample provided. So test your code for other inputs.\n",
        "\n",
        "### You can submit your solutions any number of times until the deadline.\n"
      ]
    },
    {
      "cell_type": "markdown",
      "metadata": {
        "id": "uacFrEaZfcfq"
      },
      "source": [
        "##### Q1. Write a program that prompts the user to enter a password then prints the length of the password.\n",
        "\n",
        "```\n",
        "Enter your password: hello\n",
        "Your password is 5 long.\n",
        "```\n",
        "\n",
        "\n"
      ]
    },
    {
      "cell_type": "code",
      "metadata": {
        "id": "avPyES14ftCt",
        "colab": {
          "base_uri": "https://localhost:8080/"
        },
        "outputId": "0ef6fa63-b5be-4328-f908-9af07abd509e"
      },
      "source": [
        "# Type solution here\n",
        "pw = input(\"Enter your password:\")\n",
        "length = len(pw)\n",
        "print(\"Your password is\", length, \"long.\")"
      ],
      "execution_count": 8,
      "outputs": [
        {
          "output_type": "stream",
          "text": [
            "Enter your password:heyitsjs\n",
            "Your password is 8 long.\n"
          ],
          "name": "stdout"
        }
      ]
    },
    {
      "cell_type": "markdown",
      "metadata": {
        "id": "behD0j_Of2TW"
      },
      "source": [
        "##### Q2. Write a program that prompts the user to enter their full name then prints the number of characters in their name (do not count spaces).\n",
        "\n",
        "```\n",
        "What is your name? Amulya Katti\n",
        "Amulya Katti your name has 11 characters.\n",
        "```"
      ]
    },
    {
      "cell_type": "code",
      "metadata": {
        "id": "XSdIRjwlhSlu",
        "colab": {
          "base_uri": "https://localhost:8080/"
        },
        "outputId": "8a792894-dba8-4d0a-ac90-bab5a3ebe671"
      },
      "source": [
        "# Type solution here\n",
        "name = input(\"What is your name? \")\n",
        "characters = len(name) - name.count(\" \")\n",
        "print(name, \"your name has\", characters, \"characters\")\n"
      ],
      "execution_count": null,
      "outputs": [
        {
          "output_type": "stream",
          "text": [
            "What is your name?  Amulya Katti \n",
            " Amulya Katti  your name has 11 characters\n"
          ],
          "name": "stdout"
        }
      ]
    },
    {
      "cell_type": "markdown",
      "metadata": {
        "id": "5KHOWF6FhVHV"
      },
      "source": [
        "##### Q3. Write a program that prompts the user to enter a month (as a number), then prints the name of the month and the number of days in that month. Ensure that the user inputs a valid month and handle any error cases.\n",
        "\n",
        "```\n",
        "Enter the month number: 9\n",
        "September has 30 days\n",
        "```"
      ]
    },
    {
      "cell_type": "code",
      "metadata": {
        "id": "KhS-SAEThyTG",
        "colab": {
          "base_uri": "https://localhost:8080/"
        },
        "outputId": "a1b3a787-d384-4701-be54-426523dd46ca"
      },
      "source": [
        "# Type solution here\n",
        "months = {\"1\":\"January\", \"2\":\"Feburary\", \"3\":\"March\", \"4\":\"April\", \"5\":\"May\", \"6\":\"June\", \"7\":\"July\", \"8\":\"August\", \"9\":\"September\", \"10\":\"October\", \"11\":\"November\", \"12\":\"December\"}\n",
        "number = input(\"Enter the month number: \")\n",
        "while number not in months:\n",
        "  print(\"Invalid input. Please try again.\")\n",
        "  number = input(\"Enter the month number: \")\n",
        "if int(number) in [1,3,5,7,8,10,12]:\n",
        "  days = 31\n",
        "elif int(number) in [4,6,8,9,11]:\n",
        "  days = 30\n",
        "else:\n",
        "  days = 28\n",
        "print(months[number], \"has\", days, \"days\")"
      ],
      "execution_count": 9,
      "outputs": [
        {
          "output_type": "stream",
          "text": [
            "Enter the month number: 12\n",
            "December has 31 days\n"
          ],
          "name": "stdout"
        }
      ]
    },
    {
      "cell_type": "markdown",
      "metadata": {
        "id": "O7lnAdGlh6Xa"
      },
      "source": [
        "##### Q4. Write a program that prompts the user to enter a loan amount, annual interest rate, and number of years  for a car loan. Then calculate and print the monthly payment amount.\n",
        "\n",
        "Note:\n",
        "```\n",
        "PMT= [PV*i*((1+i)^n)]/[((1+i)^n)-1]\n",
        "```\n",
        "PMT is the monthly payment\n",
        "\n",
        "PV is the loan amount\n",
        "\n",
        "i is the interest rate per month in decimal form (interest rate percentage divided by 12)\n",
        "\n",
        "n is the number of months (term of the loan in months)\n",
        "\n",
        "```\n",
        "Loan Amount: 30000.00\n",
        "Annual Interest Rate: 4.00\n",
        "Years: 5\n",
        "Your monthly payment is: $552.50\n",
        "```"
      ]
    },
    {
      "cell_type": "code",
      "metadata": {
        "id": "p4B5JH5GiTs9",
        "colab": {
          "base_uri": "https://localhost:8080/"
        },
        "outputId": "ec195524-e4e8-4f0f-c216-06699aea97ee"
      },
      "source": [
        "# Type solution here\n",
        "pv = float(input(\"Loan Amount: \"))\n",
        "annual = float(input(\"Annual Interest Rate: \"))\n",
        "i = annual * 0.01 / 12\n",
        "years = float(input(\"Years: \"))\n",
        "n = years * 12\n",
        "pmt= (pv*i*((1+i)**n))/(((1+i)**n)-1) \n",
        "print(\"Your monthly payment is: $\" + \"{0:.2f}\".format(pmt))\n",
        "\n",
        "\n"
      ],
      "execution_count": 7,
      "outputs": [
        {
          "output_type": "stream",
          "text": [
            "Loan Amount: 30000.00\n",
            "Annual Interest Rate: 4.00\n",
            "Years: 5\n",
            "Your monthly payment is: $552.50\n"
          ],
          "name": "stdout"
        }
      ]
    },
    {
      "cell_type": "markdown",
      "metadata": {
        "id": "SjiolJKgiWV-"
      },
      "source": [
        "##### Q5. Write a program to that prompts the user to enter a string. Then check whether or not the string is a palindrome.\n",
        "\n",
        "```\n",
        "Enter a string: Madam\n",
        "Madam, is a palindrome!\n",
        "```"
      ]
    },
    {
      "cell_type": "code",
      "metadata": {
        "id": "F5_M934Ri0es",
        "colab": {
          "base_uri": "https://localhost:8080/"
        },
        "outputId": "7bf87aa9-3a06-473e-cc87-c8a805c8a5af"
      },
      "source": [
        "# Type solution here\n",
        "string = input(\"Enter a string: \")\n",
        "if string.lower() == string.lower()[::-1]:\n",
        "  print(string + \", is a palindrome!\")\n",
        "else:\n",
        "  print(string + \", is not a palindrome.\") \n"
      ],
      "execution_count": 12,
      "outputs": [
        {
          "output_type": "stream",
          "text": [
            "Enter a string: Madam\n",
            "Madam, is a palindrome!\n"
          ],
          "name": "stdout"
        }
      ]
    },
    {
      "cell_type": "markdown",
      "metadata": {
        "id": "BLBD6n9vkJEu"
      },
      "source": [
        "##### Q6. Write a program to compute and print all possible combinations of change for \\$1. Denominations to be considered – quarter, dime, nickel, penny.\n",
        "\n",
        "Hint: Use nested loops (loops within loops for the various denominations of coins)\n",
        "\n",
        "```\n",
        "Change for $1:\n",
        "0 quarters, 0 dimes, 0 nickels, 100 pennies\n",
        "…\n",
        "4 quarters, 0 dimes, 0 nickels, 0 pennies\n",
        "```"
      ]
    },
    {
      "cell_type": "code",
      "metadata": {
        "id": "kAQsTjwDkZZ5",
        "colab": {
          "base_uri": "https://localhost:8080/"
        },
        "outputId": "cb0b2b74-5161-4839-ac5b-5949dc05ea04"
      },
      "source": [
        "# Type solution here\n",
        "quarters = range(0,5)\n",
        "dimes = range(0,11)\n",
        "nickels = range(0,21)\n",
        "pennies = range(0,101)\n",
        "print(\"Change for $1:\")\n",
        "for q in quarters:\n",
        "  for d in dimes:\n",
        "    for n in nickels:\n",
        "      for p in pennies:\n",
        "        if q * 0.25 + d * 0.10 + n * 0.05 + p * 0.01 == 1.00:\n",
        "          print(q, \" quarters, \", d, \" dimes, \", n, \" nickels, \", p, \"pennies\" )\n",
        "\n",
        "\n",
        "\n",
        "\n"
      ],
      "execution_count": 4,
      "outputs": [
        {
          "output_type": "stream",
          "text": [
            "Change for $1:\n",
            "0  quarters,  0  dimes,  0  nickels,  100 pennies\n",
            "0  quarters,  0  dimes,  1  nickels,  95 pennies\n",
            "0  quarters,  0  dimes,  2  nickels,  90 pennies\n",
            "0  quarters,  0  dimes,  3  nickels,  85 pennies\n",
            "0  quarters,  0  dimes,  4  nickels,  80 pennies\n",
            "0  quarters,  0  dimes,  5  nickels,  75 pennies\n",
            "0  quarters,  0  dimes,  6  nickels,  70 pennies\n",
            "0  quarters,  0  dimes,  7  nickels,  65 pennies\n",
            "0  quarters,  0  dimes,  8  nickels,  60 pennies\n",
            "0  quarters,  0  dimes,  9  nickels,  55 pennies\n",
            "0  quarters,  0  dimes,  10  nickels,  50 pennies\n",
            "0  quarters,  0  dimes,  11  nickels,  45 pennies\n",
            "0  quarters,  0  dimes,  12  nickels,  40 pennies\n",
            "0  quarters,  0  dimes,  13  nickels,  35 pennies\n",
            "0  quarters,  0  dimes,  14  nickels,  30 pennies\n",
            "0  quarters,  0  dimes,  15  nickels,  25 pennies\n",
            "0  quarters,  0  dimes,  16  nickels,  20 pennies\n",
            "0  quarters,  0  dimes,  17  nickels,  15 pennies\n",
            "0  quarters,  0  dimes,  18  nickels,  10 pennies\n",
            "0  quarters,  0  dimes,  19  nickels,  5 pennies\n",
            "0  quarters,  0  dimes,  20  nickels,  0 pennies\n",
            "0  quarters,  1  dimes,  0  nickels,  90 pennies\n",
            "0  quarters,  1  dimes,  1  nickels,  85 pennies\n",
            "0  quarters,  1  dimes,  2  nickels,  80 pennies\n",
            "0  quarters,  1  dimes,  3  nickels,  75 pennies\n",
            "0  quarters,  1  dimes,  4  nickels,  70 pennies\n",
            "0  quarters,  1  dimes,  5  nickels,  65 pennies\n",
            "0  quarters,  1  dimes,  6  nickels,  60 pennies\n",
            "0  quarters,  1  dimes,  7  nickels,  55 pennies\n",
            "0  quarters,  1  dimes,  8  nickels,  50 pennies\n",
            "0  quarters,  1  dimes,  9  nickels,  45 pennies\n",
            "0  quarters,  1  dimes,  10  nickels,  40 pennies\n",
            "0  quarters,  1  dimes,  11  nickels,  35 pennies\n",
            "0  quarters,  1  dimes,  12  nickels,  30 pennies\n",
            "0  quarters,  1  dimes,  13  nickels,  25 pennies\n",
            "0  quarters,  1  dimes,  14  nickels,  20 pennies\n",
            "0  quarters,  1  dimes,  15  nickels,  15 pennies\n",
            "0  quarters,  1  dimes,  16  nickels,  10 pennies\n",
            "0  quarters,  1  dimes,  17  nickels,  5 pennies\n",
            "0  quarters,  1  dimes,  18  nickels,  0 pennies\n",
            "0  quarters,  2  dimes,  0  nickels,  80 pennies\n",
            "0  quarters,  2  dimes,  1  nickels,  75 pennies\n",
            "0  quarters,  2  dimes,  2  nickels,  70 pennies\n",
            "0  quarters,  2  dimes,  3  nickels,  65 pennies\n",
            "0  quarters,  2  dimes,  4  nickels,  60 pennies\n",
            "0  quarters,  2  dimes,  5  nickels,  55 pennies\n",
            "0  quarters,  2  dimes,  6  nickels,  50 pennies\n",
            "0  quarters,  2  dimes,  7  nickels,  45 pennies\n",
            "0  quarters,  2  dimes,  8  nickels,  40 pennies\n",
            "0  quarters,  2  dimes,  9  nickels,  35 pennies\n",
            "0  quarters,  2  dimes,  10  nickels,  30 pennies\n",
            "0  quarters,  2  dimes,  11  nickels,  25 pennies\n",
            "0  quarters,  2  dimes,  12  nickels,  20 pennies\n",
            "0  quarters,  2  dimes,  13  nickels,  15 pennies\n",
            "0  quarters,  2  dimes,  15  nickels,  5 pennies\n",
            "0  quarters,  2  dimes,  16  nickels,  0 pennies\n",
            "0  quarters,  3  dimes,  0  nickels,  70 pennies\n",
            "0  quarters,  3  dimes,  1  nickels,  65 pennies\n",
            "0  quarters,  3  dimes,  2  nickels,  60 pennies\n",
            "0  quarters,  3  dimes,  3  nickels,  55 pennies\n",
            "0  quarters,  3  dimes,  4  nickels,  50 pennies\n",
            "0  quarters,  3  dimes,  5  nickels,  45 pennies\n",
            "0  quarters,  3  dimes,  6  nickels,  40 pennies\n",
            "0  quarters,  3  dimes,  8  nickels,  30 pennies\n",
            "0  quarters,  3  dimes,  9  nickels,  25 pennies\n",
            "0  quarters,  3  dimes,  10  nickels,  20 pennies\n",
            "0  quarters,  3  dimes,  11  nickels,  15 pennies\n",
            "0  quarters,  3  dimes,  13  nickels,  5 pennies\n",
            "0  quarters,  3  dimes,  14  nickels,  0 pennies\n",
            "0  quarters,  4  dimes,  0  nickels,  60 pennies\n",
            "0  quarters,  4  dimes,  1  nickels,  55 pennies\n",
            "0  quarters,  4  dimes,  2  nickels,  50 pennies\n",
            "0  quarters,  4  dimes,  3  nickels,  45 pennies\n",
            "0  quarters,  4  dimes,  4  nickels,  40 pennies\n",
            "0  quarters,  4  dimes,  5  nickels,  35 pennies\n",
            "0  quarters,  4  dimes,  6  nickels,  30 pennies\n",
            "0  quarters,  4  dimes,  7  nickels,  25 pennies\n",
            "0  quarters,  4  dimes,  8  nickels,  20 pennies\n",
            "0  quarters,  4  dimes,  9  nickels,  15 pennies\n",
            "0  quarters,  4  dimes,  10  nickels,  10 pennies\n",
            "0  quarters,  4  dimes,  11  nickels,  5 pennies\n",
            "0  quarters,  4  dimes,  12  nickels,  0 pennies\n",
            "0  quarters,  5  dimes,  0  nickels,  50 pennies\n",
            "0  quarters,  5  dimes,  1  nickels,  45 pennies\n",
            "0  quarters,  5  dimes,  2  nickels,  40 pennies\n",
            "0  quarters,  5  dimes,  3  nickels,  35 pennies\n",
            "0  quarters,  5  dimes,  4  nickels,  30 pennies\n",
            "0  quarters,  5  dimes,  5  nickels,  25 pennies\n",
            "0  quarters,  5  dimes,  6  nickels,  20 pennies\n",
            "0  quarters,  5  dimes,  7  nickels,  15 pennies\n",
            "0  quarters,  5  dimes,  8  nickels,  10 pennies\n",
            "0  quarters,  5  dimes,  9  nickels,  5 pennies\n",
            "0  quarters,  5  dimes,  10  nickels,  0 pennies\n",
            "0  quarters,  6  dimes,  0  nickels,  40 pennies\n",
            "0  quarters,  6  dimes,  2  nickels,  30 pennies\n",
            "0  quarters,  6  dimes,  3  nickels,  25 pennies\n",
            "0  quarters,  6  dimes,  4  nickels,  20 pennies\n",
            "0  quarters,  6  dimes,  5  nickels,  15 pennies\n",
            "0  quarters,  6  dimes,  8  nickels,  0 pennies\n",
            "0  quarters,  7  dimes,  0  nickels,  30 pennies\n",
            "0  quarters,  7  dimes,  1  nickels,  25 pennies\n",
            "0  quarters,  7  dimes,  2  nickels,  20 pennies\n",
            "0  quarters,  7  dimes,  3  nickels,  15 pennies\n",
            "0  quarters,  7  dimes,  5  nickels,  5 pennies\n",
            "0  quarters,  7  dimes,  6  nickels,  0 pennies\n",
            "0  quarters,  8  dimes,  0  nickels,  20 pennies\n",
            "0  quarters,  8  dimes,  1  nickels,  15 pennies\n",
            "0  quarters,  8  dimes,  2  nickels,  10 pennies\n",
            "0  quarters,  8  dimes,  3  nickels,  5 pennies\n",
            "0  quarters,  8  dimes,  4  nickels,  0 pennies\n",
            "0  quarters,  9  dimes,  0  nickels,  10 pennies\n",
            "0  quarters,  9  dimes,  1  nickels,  5 pennies\n",
            "0  quarters,  9  dimes,  2  nickels,  0 pennies\n",
            "0  quarters,  10  dimes,  0  nickels,  0 pennies\n",
            "1  quarters,  0  dimes,  0  nickels,  75 pennies\n",
            "1  quarters,  0  dimes,  1  nickels,  70 pennies\n",
            "1  quarters,  0  dimes,  2  nickels,  65 pennies\n",
            "1  quarters,  0  dimes,  3  nickels,  60 pennies\n",
            "1  quarters,  0  dimes,  4  nickels,  55 pennies\n",
            "1  quarters,  0  dimes,  5  nickels,  50 pennies\n",
            "1  quarters,  0  dimes,  6  nickels,  45 pennies\n",
            "1  quarters,  0  dimes,  7  nickels,  40 pennies\n",
            "1  quarters,  0  dimes,  8  nickels,  35 pennies\n",
            "1  quarters,  0  dimes,  9  nickels,  30 pennies\n",
            "1  quarters,  0  dimes,  10  nickels,  25 pennies\n",
            "1  quarters,  0  dimes,  11  nickels,  20 pennies\n",
            "1  quarters,  0  dimes,  12  nickels,  15 pennies\n",
            "1  quarters,  0  dimes,  13  nickels,  10 pennies\n",
            "1  quarters,  0  dimes,  14  nickels,  5 pennies\n",
            "1  quarters,  0  dimes,  15  nickels,  0 pennies\n",
            "1  quarters,  1  dimes,  0  nickels,  65 pennies\n",
            "1  quarters,  1  dimes,  1  nickels,  60 pennies\n",
            "1  quarters,  1  dimes,  2  nickels,  55 pennies\n",
            "1  quarters,  1  dimes,  3  nickels,  50 pennies\n",
            "1  quarters,  1  dimes,  4  nickels,  45 pennies\n",
            "1  quarters,  1  dimes,  5  nickels,  40 pennies\n",
            "1  quarters,  1  dimes,  6  nickels,  35 pennies\n",
            "1  quarters,  1  dimes,  7  nickels,  30 pennies\n",
            "1  quarters,  1  dimes,  8  nickels,  25 pennies\n",
            "1  quarters,  1  dimes,  9  nickels,  20 pennies\n",
            "1  quarters,  1  dimes,  10  nickels,  15 pennies\n",
            "1  quarters,  1  dimes,  11  nickels,  10 pennies\n",
            "1  quarters,  1  dimes,  12  nickels,  5 pennies\n",
            "1  quarters,  1  dimes,  13  nickels,  0 pennies\n",
            "1  quarters,  2  dimes,  0  nickels,  55 pennies\n",
            "1  quarters,  2  dimes,  1  nickels,  50 pennies\n",
            "1  quarters,  2  dimes,  2  nickels,  45 pennies\n",
            "1  quarters,  2  dimes,  3  nickels,  40 pennies\n",
            "1  quarters,  2  dimes,  4  nickels,  35 pennies\n",
            "1  quarters,  2  dimes,  5  nickels,  30 pennies\n",
            "1  quarters,  2  dimes,  6  nickels,  25 pennies\n",
            "1  quarters,  2  dimes,  7  nickels,  20 pennies\n",
            "1  quarters,  2  dimes,  8  nickels,  15 pennies\n",
            "1  quarters,  2  dimes,  9  nickels,  10 pennies\n",
            "1  quarters,  2  dimes,  10  nickels,  5 pennies\n",
            "1  quarters,  2  dimes,  11  nickels,  0 pennies\n",
            "1  quarters,  3  dimes,  0  nickels,  45 pennies\n",
            "1  quarters,  3  dimes,  1  nickels,  40 pennies\n",
            "1  quarters,  3  dimes,  2  nickels,  35 pennies\n",
            "1  quarters,  3  dimes,  3  nickels,  30 pennies\n",
            "1  quarters,  3  dimes,  4  nickels,  25 pennies\n",
            "1  quarters,  3  dimes,  5  nickels,  20 pennies\n",
            "1  quarters,  3  dimes,  6  nickels,  15 pennies\n",
            "1  quarters,  3  dimes,  8  nickels,  5 pennies\n",
            "1  quarters,  3  dimes,  9  nickels,  0 pennies\n",
            "1  quarters,  4  dimes,  0  nickels,  35 pennies\n",
            "1  quarters,  4  dimes,  1  nickels,  30 pennies\n",
            "1  quarters,  4  dimes,  2  nickels,  25 pennies\n",
            "1  quarters,  4  dimes,  3  nickels,  20 pennies\n",
            "1  quarters,  4  dimes,  4  nickels,  15 pennies\n",
            "1  quarters,  4  dimes,  5  nickels,  10 pennies\n",
            "1  quarters,  4  dimes,  6  nickels,  5 pennies\n",
            "1  quarters,  4  dimes,  7  nickels,  0 pennies\n",
            "1  quarters,  5  dimes,  0  nickels,  25 pennies\n",
            "1  quarters,  5  dimes,  1  nickels,  20 pennies\n",
            "1  quarters,  5  dimes,  2  nickels,  15 pennies\n",
            "1  quarters,  5  dimes,  3  nickels,  10 pennies\n",
            "1  quarters,  5  dimes,  4  nickels,  5 pennies\n",
            "1  quarters,  5  dimes,  5  nickels,  0 pennies\n",
            "1  quarters,  6  dimes,  0  nickels,  15 pennies\n",
            "1  quarters,  6  dimes,  2  nickels,  5 pennies\n",
            "1  quarters,  6  dimes,  3  nickels,  0 pennies\n",
            "1  quarters,  7  dimes,  0  nickels,  5 pennies\n",
            "1  quarters,  7  dimes,  1  nickels,  0 pennies\n",
            "2  quarters,  0  dimes,  0  nickels,  50 pennies\n",
            "2  quarters,  0  dimes,  1  nickels,  45 pennies\n",
            "2  quarters,  0  dimes,  2  nickels,  40 pennies\n",
            "2  quarters,  0  dimes,  3  nickels,  35 pennies\n",
            "2  quarters,  0  dimes,  4  nickels,  30 pennies\n",
            "2  quarters,  0  dimes,  5  nickels,  25 pennies\n",
            "2  quarters,  0  dimes,  6  nickels,  20 pennies\n",
            "2  quarters,  0  dimes,  7  nickels,  15 pennies\n",
            "2  quarters,  0  dimes,  8  nickels,  10 pennies\n",
            "2  quarters,  0  dimes,  9  nickels,  5 pennies\n",
            "2  quarters,  0  dimes,  10  nickels,  0 pennies\n",
            "2  quarters,  1  dimes,  0  nickels,  40 pennies\n",
            "2  quarters,  1  dimes,  1  nickels,  35 pennies\n",
            "2  quarters,  1  dimes,  2  nickels,  30 pennies\n",
            "2  quarters,  1  dimes,  3  nickels,  25 pennies\n",
            "2  quarters,  1  dimes,  4  nickels,  20 pennies\n",
            "2  quarters,  1  dimes,  5  nickels,  15 pennies\n",
            "2  quarters,  1  dimes,  6  nickels,  10 pennies\n",
            "2  quarters,  1  dimes,  7  nickels,  5 pennies\n",
            "2  quarters,  1  dimes,  8  nickels,  0 pennies\n",
            "2  quarters,  2  dimes,  0  nickels,  30 pennies\n",
            "2  quarters,  2  dimes,  1  nickels,  25 pennies\n",
            "2  quarters,  2  dimes,  2  nickels,  20 pennies\n",
            "2  quarters,  2  dimes,  3  nickels,  15 pennies\n",
            "2  quarters,  2  dimes,  5  nickels,  5 pennies\n",
            "2  quarters,  2  dimes,  6  nickels,  0 pennies\n",
            "2  quarters,  3  dimes,  0  nickels,  20 pennies\n",
            "2  quarters,  3  dimes,  1  nickels,  15 pennies\n",
            "2  quarters,  3  dimes,  2  nickels,  10 pennies\n",
            "2  quarters,  3  dimes,  3  nickels,  5 pennies\n",
            "2  quarters,  3  dimes,  4  nickels,  0 pennies\n",
            "2  quarters,  4  dimes,  0  nickels,  10 pennies\n",
            "2  quarters,  4  dimes,  1  nickels,  5 pennies\n",
            "2  quarters,  4  dimes,  2  nickels,  0 pennies\n",
            "2  quarters,  5  dimes,  0  nickels,  0 pennies\n",
            "3  quarters,  0  dimes,  0  nickels,  25 pennies\n",
            "3  quarters,  0  dimes,  1  nickels,  20 pennies\n",
            "3  quarters,  0  dimes,  2  nickels,  15 pennies\n",
            "3  quarters,  0  dimes,  3  nickels,  10 pennies\n",
            "3  quarters,  0  dimes,  4  nickels,  5 pennies\n",
            "3  quarters,  0  dimes,  5  nickels,  0 pennies\n",
            "3  quarters,  1  dimes,  0  nickels,  15 pennies\n",
            "3  quarters,  1  dimes,  1  nickels,  10 pennies\n",
            "3  quarters,  1  dimes,  2  nickels,  5 pennies\n",
            "3  quarters,  1  dimes,  3  nickels,  0 pennies\n",
            "3  quarters,  2  dimes,  0  nickels,  5 pennies\n",
            "3  quarters,  2  dimes,  1  nickels,  0 pennies\n",
            "4  quarters,  0  dimes,  0  nickels,  0 pennies\n"
          ],
          "name": "stdout"
        }
      ]
    },
    {
      "cell_type": "markdown",
      "metadata": {
        "id": "rUPDjYiIkbgs"
      },
      "source": [
        "##### Q7. Ask the user to enter two positive integers between 1 and 100. Read those integers. Then output a multiplication table of the first number times the second number. \n",
        "\n",
        "Note: You have to ensure the entered numbers are between 1 and 100 only.\n",
        "\n",
        "```\n",
        "Please enter an integer: 5\n",
        "Please enter another integer: 20\n",
        "5 x 1 = 5\n",
        "5 x 2 = 10\n",
        "5 x 3 = 15\n",
        "…\n",
        "5 x 20 = 100\n",
        "```"
      ]
    },
    {
      "cell_type": "code",
      "metadata": {
        "id": "Qg0Orv1klHzA",
        "colab": {
          "base_uri": "https://localhost:8080/"
        },
        "outputId": "69233bb4-3c89-4505-a88c-95f0f25641bf"
      },
      "source": [
        "# Type solution here\n",
        "int1 = int(input(\"Please enter an integer: \"))\n",
        "int2 = int(input(\"Please enter another integer: \"))\n",
        "int2List = []\n",
        "for number in range(1,int2+1):\n",
        "  int2List.append(number)\n",
        "for i in int2List:\n",
        "  print(int1, \"x\", i, \"=\", int1*i)"
      ],
      "execution_count": 14,
      "outputs": [
        {
          "output_type": "stream",
          "text": [
            "Please enter an integer: 12\n",
            "Please enter another integer: 3\n",
            "12 x 1 = 12\n",
            "12 x 2 = 24\n",
            "12 x 3 = 36\n"
          ],
          "name": "stdout"
        }
      ]
    },
    {
      "cell_type": "markdown",
      "metadata": {
        "id": "SbnbPUPTlLD9"
      },
      "source": [
        "##### Q8. Write a program to ask the user to enter a password. Then check to see if it is a valid password based on these requirements -\n",
        "\n",
        "Must be at least 8 characters long\n",
        "\n",
        "Must contain both uppercase and lowercase letters\n",
        "\n",
        "Must contain at least one number between 0-9\n",
        "\n",
        "Must contain a special character -!,@,#,$\n",
        "\n",
        "If the password is not valid, ask the user to re-enter. This should continue until the user enters a valid password. After a valid password is entered, print Access Granted!\n",
        "\n",
        "```\n",
        "Please enter a password. Follow these requirements - \n",
        "a. Must be at least 8 characters long\n",
        "b. Must contain both uppercase and lowercase letters\n",
        "c. Must contain at least one number between 0-9\n",
        "d. Must contain a special character -!,@,#,$\n",
        "Password: HelloWorld1\n",
        "Invalid password. Try again!\n",
        "Password: Hello@World1\n",
        "Access Granted!\n",
        "```\n"
      ]
    },
    {
      "cell_type": "code",
      "metadata": {
        "id": "OXmZ177Rl-RV",
        "colab": {
          "base_uri": "https://localhost:8080/"
        },
        "outputId": "773725e0-b265-4052-c781-329d8bf74f5d"
      },
      "source": [
        "# Type solution here\n",
        "print('''\n",
        "Please enter a password. Follow these requirements - \n",
        "a. Must be at least 8 characters long\n",
        "b. Must contain both uppercase and lowercase letters\n",
        "c. Must contain at least one number between 0-9\n",
        "d. Must contain a special character -!,@,#,$\n",
        "''')\n",
        "\n",
        "access = False\n",
        "upper = 0\n",
        "lower = 0\n",
        "digit = 0\n",
        "special = 0\n",
        "while access == False:\n",
        "  pw = input(\"Password: \")\n",
        "  if len(pw) > 7:\n",
        "    for i in pw:\n",
        "      if i.upper():\n",
        "        upper +=1\n",
        "      if i.lower():\n",
        "        lower +=1\n",
        "      if i.isdigit():\n",
        "        digit +=1\n",
        "      if i==\"!\" or i==\"@\" or i==\"#\" or i==\"$\":\n",
        "        special +=1\n",
        "    if upper>0 and lower>0 and digit>0 and special>0:\n",
        "      access = True\n",
        "      print(\"Access Granted!\")\n",
        "    else: \n",
        "      print(\"Invalid password. Try again!\")\n",
        "      upper = 0\n",
        "      lower = 0\n",
        "      digit = 0\n",
        "      specical = 0\n",
        "  else:\n",
        "    print(\"Invalid password. Try again!\")\n",
        "    upper = 0\n",
        "    lower = 0\n",
        "    digit = 0\n",
        "    specical = 0\n",
        "\n",
        "      \n",
        "\n"
      ],
      "execution_count": null,
      "outputs": [
        {
          "output_type": "stream",
          "text": [
            "\n",
            "Please enter a password. Follow these requirements - \n",
            "a. Must be at least 8 characters long\n",
            "b. Must contain both uppercase and lowercase letters\n",
            "c. Must contain at least one number between 0-9\n",
            "d. Must contain a special character -!,@,#,$\n",
            "\n",
            "Password: Qw!1\n",
            "Invalid password. Try again!\n",
            "Password: 11111111qQ1!\n",
            "Access Granted!\n"
          ],
          "name": "stdout"
        }
      ]
    },
    {
      "cell_type": "markdown",
      "metadata": {
        "id": "-0sdutTDnTKA"
      },
      "source": [
        "##### Q9. Given the score sheet of participants in a competition, you are required to find the runner-up score. You are given scores in a list. Find the score of the runner-up.\n",
        "\n",
        "```\n",
        "list1 - [2, 3, 6, 6, 5]\n",
        "runner_up - 5\n",
        "\n",
        "list2 - [1, 7, 5, 3, 10, 4, 5, 5, 6, 11]\n",
        "runner_up - 10\n",
        "```"
      ]
    },
    {
      "cell_type": "code",
      "metadata": {
        "id": "12YP9OaqpGRK",
        "colab": {
          "base_uri": "https://localhost:8080/"
        },
        "outputId": "8b51fd34-6123-4b81-d4e4-51adb8643b6e"
      },
      "source": [
        "# Type solution here\n",
        "\n",
        "list1 = [2, 3, 6, 6, 5]\n",
        "unique1 = []\n",
        "for i in list1:\n",
        "  if i not in unique1:\n",
        "    unique1.append(i)    \n",
        "\n",
        "unique1.remove(max(unique1))\n",
        "ru1 = max(unique1)\n",
        "print(\"list1 -\", list1)\n",
        "print(\"runner_up -\", ru1)\n",
        "\n",
        "list2 = [1, 7, 5, 3, 10, 4, 5, 5, 6, 11]\n",
        "unique2 = []\n",
        "for i in list2:\n",
        "  if i not in unique2:\n",
        "    unique2.append(i)    \n",
        "\n",
        "unique2.remove(max(unique2))\n",
        "ru2 = max(unique2)\n",
        "print(\"list2 -\", list2)\n",
        "print(\"runner_up -\", ru2)"
      ],
      "execution_count": null,
      "outputs": [
        {
          "output_type": "stream",
          "text": [
            "list1 - [2, 3, 6, 6, 5]\n",
            "runner_up - 5\n",
            "list2 - [1, 7, 5, 3, 10, 4, 5, 5, 6, 11]\n",
            "runner_up - 10\n"
          ],
          "name": "stdout"
        }
      ]
    },
    {
      "cell_type": "code",
      "metadata": {
        "id": "Fp8RsTvS8GHl"
      },
      "source": [
        ""
      ],
      "execution_count": null,
      "outputs": []
    }
  ]
}